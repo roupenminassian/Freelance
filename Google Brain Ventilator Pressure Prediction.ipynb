{
  "nbformat": 4,
  "nbformat_minor": 0,
  "metadata": {
    "accelerator": "GPU",
    "colab": {
      "name": "Google Brain - Ventilator Pressure Prediction.ipynb",
      "provenance": [],
      "machine_shape": "hm",
      "mount_file_id": "1hKqO4v7qeHXX2mCU9rfbi4w9V5D6wghb",
      "authorship_tag": "ABX9TyN5wyCWysz+IoScz9UOApV7",
      "include_colab_link": true
    },
    "kernelspec": {
      "display_name": "Python 3",
      "name": "python3"
    },
    "language_info": {
      "name": "python"
    }
  },
  "cells": [
    {
      "cell_type": "markdown",
      "metadata": {
        "id": "view-in-github",
        "colab_type": "text"
      },
      "source": [
        "<a href=\"https://colab.research.google.com/github/roupenminassian/Freelance/blob/main/Google%20Brain%20Ventilator%20Pressure%20Prediction.ipynb\" target=\"_parent\"><img src=\"https://colab.research.google.com/assets/colab-badge.svg\" alt=\"Open In Colab\"/></a>"
      ]
    },
    {
      "cell_type": "code",
      "metadata": {
        "colab": {
          "base_uri": "https://localhost:8080/"
        },
        "id": "aZxWKS6n0dnG",
        "outputId": "a5bd06a6-2b13-4a7b-ff07-9397595509d5"
      },
      "source": [
        "!pip install scikit-optimize"
      ],
      "execution_count": 16,
      "outputs": [
        {
          "output_type": "stream",
          "name": "stdout",
          "text": [
            "Collecting scikit-optimize\n",
            "  Downloading scikit_optimize-0.8.1-py2.py3-none-any.whl (101 kB)\n",
            "\u001b[K     |████████████████████████████████| 101 kB 3.1 MB/s \n",
            "\u001b[?25hCollecting pyaml>=16.9\n",
            "  Downloading pyaml-21.8.3-py2.py3-none-any.whl (17 kB)\n",
            "Requirement already satisfied: numpy>=1.13.3 in /usr/local/lib/python3.7/dist-packages (from scikit-optimize) (1.19.5)\n",
            "Requirement already satisfied: scipy>=0.19.1 in /usr/local/lib/python3.7/dist-packages (from scikit-optimize) (1.4.1)\n",
            "Requirement already satisfied: scikit-learn>=0.20.0 in /usr/local/lib/python3.7/dist-packages (from scikit-optimize) (0.22.2.post1)\n",
            "Requirement already satisfied: joblib>=0.11 in /usr/local/lib/python3.7/dist-packages (from scikit-optimize) (1.0.1)\n",
            "Requirement already satisfied: PyYAML in /usr/local/lib/python3.7/dist-packages (from pyaml>=16.9->scikit-optimize) (3.13)\n",
            "Installing collected packages: pyaml, scikit-optimize\n",
            "Successfully installed pyaml-21.8.3 scikit-optimize-0.8.1\n"
          ]
        }
      ]
    },
    {
      "cell_type": "code",
      "metadata": {
        "id": "deK4nguFrxYW"
      },
      "source": [
        "import pandas as pd\n",
        "import numpy as np\n",
        "import tensorflow as tf\n",
        "from tensorflow.keras.models import Model\n",
        "from tensorflow.python.keras.utils.vis_utils import plot_model\n",
        "from sklearn.preprocessing import PowerTransformer, RobustScaler\n",
        "from sklearn.preprocessing import LabelEncoder\n",
        "\n",
        "#imports we know we'll need\n",
        "import skopt\n",
        "from skopt import gbrt_minimize, gp_minimize\n",
        "from skopt.utils import use_named_args\n",
        "from skopt.space import Real, Categorical, Integer"
      ],
      "execution_count": 110,
      "outputs": []
    },
    {
      "cell_type": "code",
      "metadata": {
        "id": "oq0woa7EAIIf"
      },
      "source": [
        "pt_x = RobustScaler()\n",
        "pt_y = RobustScaler()\n",
        "train = pd.read_csv('/content/drive/MyDrive/ventilator-pressure-prediction/train.csv')\n",
        "test = pd.read_csv('/content/drive/MyDrive/ventilator-pressure-prediction/test.csv')"
      ],
      "execution_count": 111,
      "outputs": []
    },
    {
      "cell_type": "code",
      "metadata": {
        "id": "MLVVnkBIAJhq"
      },
      "source": [
        "def add_features(df):\n",
        "    df['area'] = df['time_step'] * df['u_in']\n",
        "    df['area'] = df.groupby('breath_id')['area'].cumsum()\n",
        "    df['cross']= df['u_in']*df['u_out']\n",
        "    df['cross2']= df['time_step']*df['u_out']\n",
        "    \n",
        "    \n",
        "    df['u_in_cumsum'] = (df['u_in']).groupby(df['breath_id']).cumsum()\n",
        "    df['one'] = 1\n",
        "    df['count'] = (df['one']).groupby(df['breath_id']).cumsum()\n",
        "    df['u_in_cummean'] =df['u_in_cumsum'] /df['count']\n",
        "    df['breath_id_lag']=df['breath_id'].shift(1).fillna(0)\n",
        "    df['breath_id_lag2']=df['breath_id'].shift(2).fillna(0)\n",
        "    df['breath_id_lagsame']=np.select([df['breath_id_lag']==df['breath_id']],[1],0)\n",
        "    df['breath_id_lag2same']=np.select([df['breath_id_lag2']==df['breath_id']],[1],0)\n",
        "    df['u_in_lag'] = df['u_in'].shift(1).fillna(0)\n",
        "    df['u_in_lag'] = df['u_in_lag']*df['breath_id_lagsame']\n",
        "    df['u_in_lag2'] = df['u_in'].shift(2).fillna(0)\n",
        "    df['u_in_lag2'] = df['u_in_lag2']*df['breath_id_lag2same']\n",
        "    df['u_out_lag2'] = df['u_out'].shift(2).fillna(0)\n",
        "    df['u_out_lag2'] = df['u_out_lag2']*df['breath_id_lag2same']\n",
        "    #df['u_in_lag'] = df['u_in'].shift(2).fillna(0)\n",
        "    \n",
        "    df['R'] = df['R'].astype(str)\n",
        "    df['C'] = df['C'].astype(str)\n",
        "    df['RC'] = df['R']+df['C']\n",
        "    df = pd.get_dummies(df)\n",
        "    return df"
      ],
      "execution_count": 112,
      "outputs": []
    },
    {
      "cell_type": "code",
      "metadata": {
        "id": "YrJgKJcZANYJ"
      },
      "source": [
        "train = add_features(train)\n",
        "test = add_features(test)"
      ],
      "execution_count": 113,
      "outputs": []
    },
    {
      "cell_type": "code",
      "metadata": {
        "id": "p9LodWCHA4Zo"
      },
      "source": [
        "train_x = pt_x.fit_transform(train.drop(['id','pressure','breath_id','one','count','breath_id_lag','breath_id_lag2','breath_id_lagsame','breath_id_lag2same','u_out_lag2'],axis=1))\n",
        "train_y = pt_y.fit_transform(np.array(train['pressure']).reshape(-1,1))\n",
        "\n",
        "test_x = pt_x.transform(test.drop(['id','breath_id','one','count','breath_id_lag','breath_id_lag2','breath_id_lagsame','breath_id_lag2same','u_out_lag2'],axis=1))"
      ],
      "execution_count": 114,
      "outputs": []
    },
    {
      "cell_type": "code",
      "metadata": {
        "colab": {
          "base_uri": "https://localhost:8080/"
        },
        "id": "XS03p6h0-2xJ",
        "outputId": "e8f2820b-f524-4157-e74b-b0f08e73f796"
      },
      "source": [
        "train_x.shape"
      ],
      "execution_count": 115,
      "outputs": [
        {
          "output_type": "execute_result",
          "data": {
            "text/plain": [
              "(6036000, 25)"
            ]
          },
          "metadata": {},
          "execution_count": 115
        }
      ]
    },
    {
      "cell_type": "code",
      "metadata": {
        "id": "dqnn4Rzc-zCb"
      },
      "source": [
        "train_x = np.reshape(train_x,(-1,80,25))"
      ],
      "execution_count": 116,
      "outputs": []
    },
    {
      "cell_type": "code",
      "metadata": {
        "colab": {
          "base_uri": "https://localhost:8080/"
        },
        "id": "dV0aYrhp_Zfo",
        "outputId": "21a086be-0b7d-4717-a1d3-f274b672edd5"
      },
      "source": [
        "train_x.shape"
      ],
      "execution_count": 117,
      "outputs": [
        {
          "output_type": "execute_result",
          "data": {
            "text/plain": [
              "(75450, 80, 25)"
            ]
          },
          "metadata": {},
          "execution_count": 117
        }
      ]
    },
    {
      "cell_type": "code",
      "metadata": {
        "colab": {
          "base_uri": "https://localhost:8080/"
        },
        "id": "dUl-xpSvHpZj",
        "outputId": "68787027-0a94-4323-ee9c-4f74f6ccc833"
      },
      "source": [
        "train_y.shape"
      ],
      "execution_count": 118,
      "outputs": [
        {
          "output_type": "execute_result",
          "data": {
            "text/plain": [
              "(6036000, 1)"
            ]
          },
          "metadata": {},
          "execution_count": 118
        }
      ]
    },
    {
      "cell_type": "code",
      "metadata": {
        "id": "ndlSMfD_HwgB"
      },
      "source": [
        "train_y = np.reshape(train_y,(-1,80,1))"
      ],
      "execution_count": 119,
      "outputs": []
    },
    {
      "cell_type": "code",
      "metadata": {
        "colab": {
          "base_uri": "https://localhost:8080/"
        },
        "id": "-lDdNgg2H1kG",
        "outputId": "c194379f-3404-4390-d3fd-1583dd837be4"
      },
      "source": [
        "train_y.shape"
      ],
      "execution_count": 120,
      "outputs": [
        {
          "output_type": "execute_result",
          "data": {
            "text/plain": [
              "(75450, 80, 1)"
            ]
          },
          "metadata": {},
          "execution_count": 120
        }
      ]
    },
    {
      "cell_type": "code",
      "metadata": {
        "colab": {
          "base_uri": "https://localhost:8080/"
        },
        "id": "PccOfGL1mHHA",
        "outputId": "f446a5f0-be5b-4a86-feb1-6c24d092182d"
      },
      "source": [
        "test_x.shape"
      ],
      "execution_count": 121,
      "outputs": [
        {
          "output_type": "execute_result",
          "data": {
            "text/plain": [
              "(4024000, 25)"
            ]
          },
          "metadata": {},
          "execution_count": 121
        }
      ]
    },
    {
      "cell_type": "code",
      "metadata": {
        "id": "opIgjOCqmIrI"
      },
      "source": [
        "test_x = np.reshape(test_x,(-1,80,25))"
      ],
      "execution_count": 122,
      "outputs": []
    },
    {
      "cell_type": "code",
      "metadata": {
        "colab": {
          "base_uri": "https://localhost:8080/"
        },
        "id": "oG1QPHwwKibZ",
        "outputId": "99e6c0c3-abcb-42c3-c5bb-71955c9636e5"
      },
      "source": [
        "np.argwhere(np.isnan(train_x))"
      ],
      "execution_count": 123,
      "outputs": [
        {
          "output_type": "execute_result",
          "data": {
            "text/plain": [
              "array([], shape=(0, 3), dtype=int64)"
            ]
          },
          "metadata": {},
          "execution_count": 123
        }
      ]
    },
    {
      "cell_type": "code",
      "metadata": {
        "colab": {
          "base_uri": "https://localhost:8080/"
        },
        "id": "cDG3vSr7K4wp",
        "outputId": "ba5b109a-e06b-4d90-8d37-5439c57fa43e"
      },
      "source": [
        "np.argwhere(np.isnan(train_y))"
      ],
      "execution_count": 124,
      "outputs": [
        {
          "output_type": "execute_result",
          "data": {
            "text/plain": [
              "array([], shape=(0, 3), dtype=int64)"
            ]
          },
          "metadata": {},
          "execution_count": 124
        }
      ]
    },
    {
      "cell_type": "code",
      "metadata": {
        "id": "iSzAFSBOVsS0"
      },
      "source": [
        "train_ds = tf.data.Dataset.from_tensor_slices((train_x,train_y))"
      ],
      "execution_count": 125,
      "outputs": []
    },
    {
      "cell_type": "code",
      "metadata": {
        "id": "2qT952fF0wDR"
      },
      "source": [
        "dim_learning_rate = Real(low=1e-4, high=1e-1, prior='log-uniform', name='learning_rate')\n",
        "dim_num_dense_layers = Integer(low=100, high=200, name='num_LSTM_nodes')\n",
        "dim_num_input_nodes = Integer(low=200, high=300, name='num_input_nodes')\n",
        "dim_num_dense_nodes = Integer(low=30, high=60, name='num_dense_nodes')\n",
        "dim_activation = Categorical(categories=['relu', 'sigmoid','elu','selu','tanh'], name='activation')\n",
        "#dim_batch_size = Integer(low=1, high=128, name='batch_size')\n",
        "dim_adam_decay = Real(low=1e-6,high=1e-2,name=\"adam_decay\")\n",
        "\n",
        "dimensions = [dim_learning_rate,\n",
        "              dim_num_dense_layers,\n",
        "              dim_num_input_nodes,\n",
        "              dim_num_dense_nodes,\n",
        "              dim_activation,\n",
        "              dim_adam_decay\n",
        "             ]\n",
        "default_parameters = [1e-3, 100, 200, 40, 'relu', 1e-3]"
      ],
      "execution_count": 126,
      "outputs": []
    },
    {
      "cell_type": "code",
      "metadata": {
        "id": "-FH6cCZ4BHgN"
      },
      "source": [
        "def lung_model(learning_rate, num_LSTM_nodes, num_input_nodes, num_dense_nodes, activation, adam_decay):\n",
        "  input_layer = tf.keras.Input(shape=(80,25))\n",
        "  x = tf.keras.layers.Bidirectional(tf.keras.layers.LSTM(num_input_nodes,return_sequences=True,activation='tanh',recurrent_initializer='glorot_uniform'))(input_layer)\n",
        "  x = tf.keras.layers.Bidirectional(tf.keras.layers.LSTM(num_LSTM_nodes,return_sequences=True,activation='tanh',recurrent_activation='sigmoid',dropout=0.2))(x)\n",
        "  x = tf.keras.layers.Bidirectional(tf.keras.layers.LSTM(100,return_sequences=True,activation='tanh',recurrent_initializer='glorot_uniform'))(x)\n",
        "  x = tf.keras.layers.Bidirectional(tf.keras.layers.LSTM(50,return_sequences=True,activation='tanh',recurrent_activation='sigmoid',dropout=0.2))(x)\n",
        "  x = tf.keras.layers.Dense(num_dense_nodes, activation=activation)(x)\n",
        "  x = tf.keras.layers.Dropout(0.2)(x)\n",
        "  x = tf.keras.layers.Dense(20, activation=activation)(x)\n",
        "  x = tf.keras.layers.Dense(10, activation=activation)(x)\n",
        "  output_layer = tf.keras.layers.Dense(1)(x)\n",
        "\n",
        "  model = Model(inputs=input_layer, outputs=output_layer)\n",
        "\n",
        "  adam = tf.keras.optimizers.Adam(learning_rate=learning_rate, decay= adam_decay)\n",
        "  \n",
        "  model.compile(optimizer=adam,\n",
        "              loss='MSE',\n",
        "              metrics=['MAE'])\n",
        "\n",
        "  return model"
      ],
      "execution_count": 127,
      "outputs": []
    },
    {
      "cell_type": "code",
      "metadata": {
        "id": "xSABmPpD2CuJ"
      },
      "source": [
        "@use_named_args(dimensions=dimensions)\n",
        "def fitness(learning_rate, num_LSTM_nodes, num_input_nodes, \n",
        "            num_dense_nodes,activation, adam_decay):\n",
        "\n",
        "    model = lung_model(learning_rate=learning_rate,\n",
        "                         num_LSTM_nodes=num_LSTM_nodes,\n",
        "                         num_input_nodes=num_input_nodes,\n",
        "                         num_dense_nodes=num_dense_nodes,\n",
        "                         activation=activation,\n",
        "                         adam_decay=adam_decay\n",
        "                        )\n",
        "    \n",
        "\n",
        "    #named blackbox becuase it represents the structure\n",
        "    blackbox = model.fit(x=train_x,\n",
        "                        y=train_y,\n",
        "                        epochs=4,\n",
        "                        batch_size=32)\n",
        "    \n",
        "    #return the validation accuracy for the last epoch.\n",
        "    score = blackbox.history['MAE'][-1]\n",
        "\n",
        "    # Print the classification accuracy.\n",
        "    #print()\n",
        "    #print(\"Accuracy: {0:.2%}\".format(accuracy))\n",
        "    #print()\n",
        "\n",
        "\n",
        "    # Delete the Keras model with these hyper-parameters from memory.\n",
        "    del model\n",
        "    \n",
        "    # Clear the Keras session, otherwise it will keep adding new\n",
        "    # models to the same TensorFlow graph each time we create\n",
        "    # a model with a different set of hyper-parameters.\n",
        "    tf.keras.backend.clear_session()\n",
        "    tf.compat.v1.reset_default_graph()\n",
        "    \n",
        "    return score"
      ],
      "execution_count": 128,
      "outputs": []
    },
    {
      "cell_type": "code",
      "metadata": {
        "id": "DbtAtFg22pOs"
      },
      "source": [
        "gp_result = gp_minimize(func=fitness,\n",
        "                            dimensions=dimensions,\n",
        "                            n_calls=12,\n",
        "                            noise= 0.01,\n",
        "                            kappa = 5,\n",
        "                            x0=default_parameters)"
      ],
      "execution_count": null,
      "outputs": []
    },
    {
      "cell_type": "code",
      "metadata": {
        "colab": {
          "base_uri": "https://localhost:8080/"
        },
        "id": "nu2XzxnZdMWU",
        "outputId": "d69e8e6a-3e66-4eac-e948-5a5520199ade"
      },
      "source": [
        "gp_result.x"
      ],
      "execution_count": 71,
      "outputs": [
        {
          "output_type": "execute_result",
          "data": {
            "text/plain": [
              "[0.01597256664977914, 106, 219, 40, 'tanh', 0.00801391015398078]"
            ]
          },
          "metadata": {},
          "execution_count": 71
        }
      ]
    },
    {
      "cell_type": "code",
      "metadata": {
        "id": "rvSgDFA7dVt9"
      },
      "source": [
        "model = lung_model(0.01597256664977914, 106, 219, 40, 'tanh', 0.00801391015398078)"
      ],
      "execution_count": 130,
      "outputs": []
    },
    {
      "cell_type": "code",
      "metadata": {
        "colab": {
          "base_uri": "https://localhost:8080/",
          "height": 1000
        },
        "id": "hNWATyWUEPHc",
        "outputId": "e62c8a37-f627-4010-fa61-2603cd3deada"
      },
      "source": [
        "plot_model(model, show_shapes=True, show_layer_names=True, to_file='model.png')"
      ],
      "execution_count": 131,
      "outputs": [
        {
          "output_type": "execute_result",
          "data": {
            "image/png": "[encoded data removed]",
            "text/plain": [
              "<IPython.core.display.Image object>"
            ]
          },
          "metadata": {},
          "execution_count": 131
        }
      ]
    },
    {
      "cell_type": "code",
      "metadata": {
        "colab": {
          "base_uri": "https://localhost:8080/"
        },
        "id": "RG4M2GLBE4Qk",
        "outputId": "5ef6fba3-d3ed-48e3-980a-7c0647d11be7"
      },
      "source": [
        "model.fit(train_x,train_y, epochs=50,batch_size=128)"
      ],
      "execution_count": 135,
      "outputs": [
        {
          "output_type": "stream",
          "name": "stdout",
          "text": [
            "Epoch 1/50\n",
            "590/590 [==============================] - 41s 70ms/step - loss: 0.0139 - MAE: 0.0756\n",
            "Epoch 2/50\n",
            "590/590 [==============================] - 41s 70ms/step - loss: 0.0137 - MAE: 0.0753\n",
            "Epoch 3/50\n",
            "590/590 [==============================] - 41s 70ms/step - loss: 0.0136 - MAE: 0.0749\n",
            "Epoch 4/50\n",
            "590/590 [==============================] - 41s 70ms/step - loss: 0.0135 - MAE: 0.0748\n",
            "Epoch 5/50\n",
            "590/590 [==============================] - 41s 70ms/step - loss: 0.0134 - MAE: 0.0744\n",
            "Epoch 6/50\n",
            "590/590 [==============================] - 41s 70ms/step - loss: 0.0133 - MAE: 0.0742\n",
            "Epoch 7/50\n",
            "590/590 [==============================] - 41s 70ms/step - loss: 0.0131 - MAE: 0.0739\n",
            "Epoch 8/50\n",
            "590/590 [==============================] - 41s 70ms/step - loss: 0.0130 - MAE: 0.0736\n",
            "Epoch 9/50\n",
            "590/590 [==============================] - 41s 70ms/step - loss: 0.0129 - MAE: 0.0732\n",
            "Epoch 10/50\n",
            "590/590 [==============================] - 41s 70ms/step - loss: 0.0127 - MAE: 0.0729\n",
            "Epoch 11/50\n",
            "590/590 [==============================] - 41s 70ms/step - loss: 0.0127 - MAE: 0.0726\n",
            "Epoch 12/50\n",
            "590/590 [==============================] - 41s 70ms/step - loss: 0.0126 - MAE: 0.0725\n",
            "Epoch 13/50\n",
            "590/590 [==============================] - 41s 70ms/step - loss: 0.0125 - MAE: 0.0722\n",
            "Epoch 14/50\n",
            "590/590 [==============================] - 41s 70ms/step - loss: 0.0123 - MAE: 0.0719\n",
            "Epoch 15/50\n",
            "590/590 [==============================] - 41s 70ms/step - loss: 0.0123 - MAE: 0.0717\n",
            "Epoch 16/50\n",
            "590/590 [==============================] - 41s 70ms/step - loss: 0.0122 - MAE: 0.0716\n",
            "Epoch 17/50\n",
            "590/590 [==============================] - 41s 70ms/step - loss: 0.0121 - MAE: 0.0712\n",
            "Epoch 18/50\n",
            "590/590 [==============================] - 41s 70ms/step - loss: 0.0120 - MAE: 0.0709\n",
            "Epoch 19/50\n",
            "590/590 [==============================] - 41s 70ms/step - loss: 0.0119 - MAE: 0.0707\n",
            "Epoch 20/50\n",
            "590/590 [==============================] - 41s 70ms/step - loss: 0.0118 - MAE: 0.0706\n",
            "Epoch 21/50\n",
            "590/590 [==============================] - 41s 70ms/step - loss: 0.0117 - MAE: 0.0703\n",
            "Epoch 22/50\n",
            "590/590 [==============================] - 41s 70ms/step - loss: 0.0117 - MAE: 0.0702\n",
            "Epoch 23/50\n",
            "590/590 [==============================] - 41s 70ms/step - loss: 0.0116 - MAE: 0.0699\n",
            "Epoch 24/50\n",
            "590/590 [==============================] - 41s 70ms/step - loss: 0.0115 - MAE: 0.0698\n",
            "Epoch 25/50\n",
            "590/590 [==============================] - 41s 70ms/step - loss: 0.0114 - MAE: 0.0695\n",
            "Epoch 26/50\n",
            "590/590 [==============================] - 41s 70ms/step - loss: 0.0114 - MAE: 0.0694\n",
            "Epoch 27/50\n",
            "590/590 [==============================] - 41s 70ms/step - loss: 0.0113 - MAE: 0.0692\n",
            "Epoch 28/50\n",
            "590/590 [==============================] - 41s 70ms/step - loss: 0.0113 - MAE: 0.0691\n",
            "Epoch 29/50\n",
            "590/590 [==============================] - 41s 70ms/step - loss: 0.0112 - MAE: 0.0689\n",
            "Epoch 30/50\n",
            "590/590 [==============================] - 41s 70ms/step - loss: 0.0112 - MAE: 0.0687\n",
            "Epoch 31/50\n",
            "590/590 [==============================] - 41s 70ms/step - loss: 0.0111 - MAE: 0.0686\n",
            "Epoch 32/50\n",
            "590/590 [==============================] - 41s 70ms/step - loss: 0.0111 - MAE: 0.0684\n",
            "Epoch 33/50\n",
            "590/590 [==============================] - 41s 70ms/step - loss: 0.0110 - MAE: 0.0683\n",
            "Epoch 34/50\n",
            "590/590 [==============================] - 41s 70ms/step - loss: 0.0110 - MAE: 0.0681\n",
            "Epoch 35/50\n",
            "590/590 [==============================] - 41s 70ms/step - loss: 0.0109 - MAE: 0.0680\n",
            "Epoch 36/50\n",
            "590/590 [==============================] - 41s 70ms/step - loss: 0.0108 - MAE: 0.0679\n",
            "Epoch 37/50\n",
            "590/590 [==============================] - 41s 70ms/step - loss: 0.0108 - MAE: 0.0677\n",
            "Epoch 38/50\n",
            "590/590 [==============================] - 41s 70ms/step - loss: 0.0107 - MAE: 0.0676\n",
            "Epoch 39/50\n",
            "590/590 [==============================] - 41s 70ms/step - loss: 0.0107 - MAE: 0.0675\n",
            "Epoch 40/50\n",
            "590/590 [==============================] - 41s 70ms/step - loss: 0.0107 - MAE: 0.0674\n",
            "Epoch 41/50\n",
            "590/590 [==============================] - 41s 70ms/step - loss: 0.0106 - MAE: 0.0673\n",
            "Epoch 42/50\n",
            "590/590 [==============================] - 41s 70ms/step - loss: 0.0106 - MAE: 0.0671\n",
            "Epoch 43/50\n",
            "590/590 [==============================] - 41s 70ms/step - loss: 0.0106 - MAE: 0.0670\n",
            "Epoch 44/50\n",
            "590/590 [==============================] - 41s 70ms/step - loss: 0.0105 - MAE: 0.0669\n",
            "Epoch 45/50\n",
            "590/590 [==============================] - 41s 70ms/step - loss: 0.0105 - MAE: 0.0668\n",
            "Epoch 46/50\n",
            "590/590 [==============================] - 41s 70ms/step - loss: 0.0105 - MAE: 0.0668\n",
            "Epoch 47/50\n",
            "590/590 [==============================] - 41s 70ms/step - loss: 0.0104 - MAE: 0.0666\n",
            "Epoch 48/50\n",
            "590/590 [==============================] - 41s 70ms/step - loss: 0.0104 - MAE: 0.0665\n",
            "Epoch 49/50\n",
            "590/590 [==============================] - 41s 70ms/step - loss: 0.0103 - MAE: 0.0664\n",
            "Epoch 50/50\n",
            "590/590 [==============================] - 41s 70ms/step - loss: 0.0103 - MAE: 0.0664\n"
          ]
        },
        {
          "output_type": "execute_result",
          "data": {
            "text/plain": [
              "<keras.callbacks.History at 0x7f1ea8b6cf10>"
            ]
          },
          "metadata": {},
          "execution_count": 135
        }
      ]
    },
    {
      "cell_type": "code",
      "metadata": {
        "id": "nG2ycIpFE7Jc"
      },
      "source": [
        "result = model.predict(test_x)"
      ],
      "execution_count": 137,
      "outputs": []
    },
    {
      "cell_type": "code",
      "metadata": {
        "colab": {
          "base_uri": "https://localhost:8080/"
        },
        "id": "FrRGuUAXVHPm",
        "outputId": "1d018cd9-6a42-4cdd-fac3-b958462fbbbd"
      },
      "source": [
        "result.shape"
      ],
      "execution_count": 138,
      "outputs": [
        {
          "output_type": "execute_result",
          "data": {
            "text/plain": [
              "(50300, 80, 1)"
            ]
          },
          "metadata": {},
          "execution_count": 138
        }
      ]
    },
    {
      "cell_type": "code",
      "metadata": {
        "id": "8TDdFnSyKCn_"
      },
      "source": [
        "result1 = result.flatten()\n",
        "preds = pd.DataFrame(pt_y.inverse_transform(pd.DataFrame(result1, columns=['pressure'])),columns=['pressure'])\n",
        "test = pd.read_csv('/content/drive/MyDrive/ventilator-pressure-prediction/test.csv')\n",
        "id = pd.DataFrame(test['id'])"
      ],
      "execution_count": 139,
      "outputs": []
    },
    {
      "cell_type": "code",
      "metadata": {
        "id": "yBkkCRHPK_jG"
      },
      "source": [
        "semi_final = pd.concat([id, preds], axis=1)"
      ],
      "execution_count": 140,
      "outputs": []
    },
    {
      "cell_type": "code",
      "metadata": {
        "id": "cWB6X8ayJ5Kw",
        "colab": {
          "base_uri": "https://localhost:8080/",
          "height": 669
        },
        "outputId": "e573a89f-b5cc-4457-d41e-6a05ba365110"
      },
      "source": [
        "semi_final.head(20)"
      ],
      "execution_count": 141,
      "outputs": [
        {
          "output_type": "execute_result",
          "data": {
            "text/html": [
              "<div>\n",
              "<style scoped>\n",
              "    .dataframe tbody tr th:only-of-type {\n",
              "        vertical-align: middle;\n",
              "    }\n",
              "\n",
              "    .dataframe tbody tr th {\n",
              "        vertical-align: top;\n",
              "    }\n",
              "\n",
              "    .dataframe thead th {\n",
              "        text-align: right;\n",
              "    }\n",
              "</style>\n",
              "<table border=\"1\" class=\"dataframe\">\n",
              "  <thead>\n",
              "    <tr style=\"text-align: right;\">\n",
              "      <th></th>\n",
              "      <th>id</th>\n",
              "      <th>pressure</th>\n",
              "    </tr>\n",
              "  </thead>\n",
              "  <tbody>\n",
              "    <tr>\n",
              "      <th>0</th>\n",
              "      <td>1</td>\n",
              "      <td>6.020639</td>\n",
              "    </tr>\n",
              "    <tr>\n",
              "      <th>1</th>\n",
              "      <td>2</td>\n",
              "      <td>5.744071</td>\n",
              "    </tr>\n",
              "    <tr>\n",
              "      <th>2</th>\n",
              "      <td>3</td>\n",
              "      <td>6.555898</td>\n",
              "    </tr>\n",
              "    <tr>\n",
              "      <th>3</th>\n",
              "      <td>4</td>\n",
              "      <td>7.677752</td>\n",
              "    </tr>\n",
              "    <tr>\n",
              "      <th>4</th>\n",
              "      <td>5</td>\n",
              "      <td>8.946117</td>\n",
              "    </tr>\n",
              "    <tr>\n",
              "      <th>5</th>\n",
              "      <td>6</td>\n",
              "      <td>10.299911</td>\n",
              "    </tr>\n",
              "    <tr>\n",
              "      <th>6</th>\n",
              "      <td>7</td>\n",
              "      <td>11.320079</td>\n",
              "    </tr>\n",
              "    <tr>\n",
              "      <th>7</th>\n",
              "      <td>8</td>\n",
              "      <td>12.441161</td>\n",
              "    </tr>\n",
              "    <tr>\n",
              "      <th>8</th>\n",
              "      <td>9</td>\n",
              "      <td>13.572053</td>\n",
              "    </tr>\n",
              "    <tr>\n",
              "      <th>9</th>\n",
              "      <td>10</td>\n",
              "      <td>14.599267</td>\n",
              "    </tr>\n",
              "    <tr>\n",
              "      <th>10</th>\n",
              "      <td>11</td>\n",
              "      <td>15.555755</td>\n",
              "    </tr>\n",
              "    <tr>\n",
              "      <th>11</th>\n",
              "      <td>12</td>\n",
              "      <td>16.458805</td>\n",
              "    </tr>\n",
              "    <tr>\n",
              "      <th>12</th>\n",
              "      <td>13</td>\n",
              "      <td>17.327829</td>\n",
              "    </tr>\n",
              "    <tr>\n",
              "      <th>13</th>\n",
              "      <td>14</td>\n",
              "      <td>18.106447</td>\n",
              "    </tr>\n",
              "    <tr>\n",
              "      <th>14</th>\n",
              "      <td>15</td>\n",
              "      <td>18.830471</td>\n",
              "    </tr>\n",
              "    <tr>\n",
              "      <th>15</th>\n",
              "      <td>16</td>\n",
              "      <td>19.563002</td>\n",
              "    </tr>\n",
              "    <tr>\n",
              "      <th>16</th>\n",
              "      <td>17</td>\n",
              "      <td>20.240654</td>\n",
              "    </tr>\n",
              "    <tr>\n",
              "      <th>17</th>\n",
              "      <td>18</td>\n",
              "      <td>20.827841</td>\n",
              "    </tr>\n",
              "    <tr>\n",
              "      <th>18</th>\n",
              "      <td>19</td>\n",
              "      <td>21.356245</td>\n",
              "    </tr>\n",
              "    <tr>\n",
              "      <th>19</th>\n",
              "      <td>20</td>\n",
              "      <td>21.882357</td>\n",
              "    </tr>\n",
              "  </tbody>\n",
              "</table>\n",
              "</div>"
            ],
            "text/plain": [
              "    id   pressure\n",
              "0    1   6.020639\n",
              "1    2   5.744071\n",
              "2    3   6.555898\n",
              "3    4   7.677752\n",
              "4    5   8.946117\n",
              "5    6  10.299911\n",
              "6    7  11.320079\n",
              "7    8  12.441161\n",
              "8    9  13.572053\n",
              "9   10  14.599267\n",
              "10  11  15.555755\n",
              "11  12  16.458805\n",
              "12  13  17.327829\n",
              "13  14  18.106447\n",
              "14  15  18.830471\n",
              "15  16  19.563002\n",
              "16  17  20.240654\n",
              "17  18  20.827841\n",
              "18  19  21.356245\n",
              "19  20  21.882357"
            ]
          },
          "metadata": {},
          "execution_count": 141
        }
      ]
    },
    {
      "cell_type": "code",
      "metadata": {
        "id": "BP0P1dpHKu1n"
      },
      "source": [
        "semi_final.to_csv('google_submission.csv',index=False)"
      ],
      "execution_count": 142,
      "outputs": []
    }
  ]
}